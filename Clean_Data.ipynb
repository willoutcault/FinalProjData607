{
 "cells": [
  {
   "cell_type": "markdown",
   "metadata": {},
   "source": [
    "# Data 607 "
   ]
  },
  {
   "cell_type": "markdown",
   "metadata": {},
   "source": [
    "### Cleaning Raw Files"
   ]
  },
  {
   "cell_type": "markdown",
   "metadata": {},
   "source": [
    "#### Import OS and Pandas"
   ]
  },
  {
   "cell_type": "code",
   "execution_count": null,
   "metadata": {},
   "outputs": [],
   "source": [
    "import os\n",
    "import pandas as pd"
   ]
  },
  {
   "cell_type": "markdown",
   "metadata": {},
   "source": [
    "#### Assign Variables to File Paths"
   ]
  },
  {
   "cell_type": "code",
   "execution_count": null,
   "metadata": {},
   "outputs": [],
   "source": [
    "yellow_root_dir = os.path.abspath('Yellow_Raw_Files')\n",
    "yellow_final_dir = os.path.abspath('Yellow_Taxi_Data')\n",
    "\n",
    "green_root_dir = os.path.abspath('Green_Raw_Files')\n",
    "green_final_dir = os.path.abspath('Green_Taxi_Data')\n",
    "\n",
    "fhv_root_dir = os.path.abspath('FHV_Raw_Files')\n",
    "fhv_final_dir = os.path.abspath('FHV_Taxi_Data')"
   ]
  },
  {
   "cell_type": "markdown",
   "metadata": {},
   "source": [
    "#### Assign Variables to Column Headers"
   ]
  },
  {
   "cell_type": "markdown",
   "metadata": {},
   "source": [
    "`columns` pertains to the raw column headers. `final_columns` pertains to final columns after cleaning up the data.\n",
    "*Note:* These column headers changed throughout the years"
   ]
  },
  {
   "cell_type": "code",
   "execution_count": null,
   "metadata": {},
   "outputs": [],
   "source": [
    "columns = [ 'VendorID',\n",
    " 'tpep_pickup_datetime',\n",
    " 'tpep_dropoff_datetime',\n",
    " 'passenger_count',\n",
    " 'trip_distance',\n",
    " 'RatecodeID',\n",
    " 'store_and_fwd_flag',\n",
    " 'PULocationID',\n",
    " 'DOLocationID',\n",
    " 'payment_type',\n",
    " 'fare_amount',\n",
    " 'extra',\n",
    " 'mta_tax',\n",
    " 'tip_amount',\n",
    " 'tolls_amount',\n",
    " 'improvement_surcharge',\n",
    " 'total_amount','level_0',\n",
    " 'level_1']"
   ]
  },
  {
   "cell_type": "code",
   "execution_count": null,
   "metadata": {},
   "outputs": [],
   "source": [
    "final_columns = [ 'tpep_pickup_datetime',\n",
    " 'passenger_count',\n",
    " 'trip_distance',\n",
    " 'fare_amount',\n",
    " 'extra',\n",
    " 'mta_tax',\n",
    " 'tip_amount',\n",
    " 'tolls_amount',\n",
    " 'total_amount', 'rides']"
   ]
  },
  {
   "cell_type": "markdown",
   "metadata": {},
   "source": [
    "#### Create Function to Clean Data"
   ]
  },
  {
   "cell_type": "code",
   "execution_count": null,
   "metadata": {},
   "outputs": [],
   "source": [
    "def clean_file(file, final_dir, columns, final_columns):\n",
    "    print(file)\n",
    "    raw_file = os.path.join(subdir, file)\n",
    "    clean_file = os.path.join(final_dir, file)\n",
    "    month = file.split('_', 2)[2].split('.', 1)[0]\n",
    "\n",
    "    print('Creating DF')\n",
    "    df = pd.read_csv(raw_file, engine='python')\n",
    "    print('DF Created')\n",
    "\n",
    "    df.columns = map(str.lower, df.columns)\n",
    "    # reset index if date column acts as index\n",
    "    #df = df.reset_index()\n",
    "    df.columns = columns\n",
    "    df = df[final_columns]\n",
    "\n",
    "    df['rides'] = 1\n",
    "    date_column = [i for i in df.columns if 'pickup' in i.lower()][0]\n",
    "    df = df.set_index(pd.DatetimeIndex(df[date_column]))\n",
    "    df = df.groupby([(df.index.date)]).sum()\n",
    "    print('DF Grouped')\n",
    "\n",
    "    df.reset_index(level=0, inplace=True)\n",
    "    df = df.rename(columns={'index': 'date', 'extra': 'surcharge'})\n",
    "    df['file_name'] = file\n",
    "    df[df['date'].astype(str).str.contains(month)]\n",
    "\n",
    "    print('Writing to DF')\n",
    "    df.to_csv(clean_file, index=False)\n",
    "    print('DF saved as .csv')"
   ]
  },
  {
   "cell_type": "markdown",
   "metadata": {},
   "source": [
    "#### Loop Through Directories to Clean Files"
   ]
  },
  {
   "cell_type": "code",
   "execution_count": null,
   "metadata": {},
   "outputs": [],
   "source": [
    "for subdir, dirs, files in os.walk(yellow_root_dir):\n",
    "    for file in files: \n",
    "        clean_file(file, yellow)"
   ]
  },
  {
   "cell_type": "markdown",
   "metadata": {},
   "source": [
    "#### Trouble Shooting"
   ]
  },
  {
   "cell_type": "markdown",
   "metadata": {},
   "source": [
    "As newer technologies became available throughout the years, the file structures have changed. You can use the below template to trouble shoot any files that aren't being read or cleaned properly. "
   ]
  },
  {
   "cell_type": "code",
   "execution_count": null,
   "metadata": {},
   "outputs": [],
   "source": [
    "test_file = os.path.abspath('Yellow_Raw_Files', 'yellow_tripdata_2014-01.csv')"
   ]
  },
  {
   "cell_type": "code",
   "execution_count": null,
   "metadata": {},
   "outputs": [],
   "source": [
    "df = pd.read_csv(test_file, engine = 'python')"
   ]
  },
  {
   "cell_type": "code",
   "execution_count": null,
   "metadata": {},
   "outputs": [],
   "source": [
    "df.columns"
   ]
  },
  {
   "cell_type": "code",
   "execution_count": null,
   "metadata": {},
   "outputs": [],
   "source": [
    "df.head()"
   ]
  }
 ],
 "metadata": {
  "kernelspec": {
   "display_name": "Python 3",
   "language": "python",
   "name": "python3"
  },
  "language_info": {
   "codemirror_mode": {
    "name": "ipython",
    "version": 3
   },
   "file_extension": ".py",
   "mimetype": "text/x-python",
   "name": "python",
   "nbconvert_exporter": "python",
   "pygments_lexer": "ipython3",
   "version": "3.6.5"
  }
 },
 "nbformat": 4,
 "nbformat_minor": 2
}
